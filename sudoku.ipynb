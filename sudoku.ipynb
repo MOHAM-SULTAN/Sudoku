{
 "cells": [
  {
   "cell_type": "code",
   "execution_count": 1,
   "metadata": {},
   "outputs": [],
   "source": [
    "import pandas as pd\n",
    "\n",
    "dset = pd.read_csv('sudoku.csv')"
   ]
  },
  {
   "cell_type": "code",
   "execution_count": 2,
   "metadata": {},
   "outputs": [
    {
     "name": "stdout",
     "output_type": "stream",
     "text": [
      "FEATURES :  ['quizzes', 'solutions']\n"
     ]
    }
   ],
   "source": [
    "# Features in Dataset (2 columns)\n",
    "print(\"FEATURES : \", list(dset.columns))"
   ]
  },
  {
   "cell_type": "code",
   "execution_count": 3,
   "metadata": {},
   "outputs": [
    {
     "data": {
      "text/html": [
       "<div>\n",
       "<style scoped>\n",
       "    .dataframe tbody tr th:only-of-type {\n",
       "        vertical-align: middle;\n",
       "    }\n",
       "\n",
       "    .dataframe tbody tr th {\n",
       "        vertical-align: top;\n",
       "    }\n",
       "\n",
       "    .dataframe thead th {\n",
       "        text-align: right;\n",
       "    }\n",
       "</style>\n",
       "<table border=\"1\" class=\"dataframe\">\n",
       "  <thead>\n",
       "    <tr style=\"text-align: right;\">\n",
       "      <th></th>\n",
       "      <th>quizzes</th>\n",
       "      <th>no_of_zeros</th>\n",
       "    </tr>\n",
       "  </thead>\n",
       "  <tbody>\n",
       "    <tr>\n",
       "      <th>0</th>\n",
       "      <td>0043002090050090010700600430060020871900074000...</td>\n",
       "      <td>46</td>\n",
       "    </tr>\n",
       "    <tr>\n",
       "      <th>1</th>\n",
       "      <td>0401000501070039605200080000000000170009068008...</td>\n",
       "      <td>47</td>\n",
       "    </tr>\n",
       "    <tr>\n",
       "      <th>2</th>\n",
       "      <td>6001203840084590720000060050002640300700800069...</td>\n",
       "      <td>47</td>\n",
       "    </tr>\n",
       "    <tr>\n",
       "      <th>3</th>\n",
       "      <td>4972000001004000050000160986203000403009000000...</td>\n",
       "      <td>48</td>\n",
       "    </tr>\n",
       "    <tr>\n",
       "      <th>4</th>\n",
       "      <td>0059103080094030600275001000300002010008200070...</td>\n",
       "      <td>49</td>\n",
       "    </tr>\n",
       "  </tbody>\n",
       "</table>\n",
       "</div>"
      ],
      "text/plain": [
       "                                             quizzes  no_of_zeros\n",
       "0  0043002090050090010700600430060020871900074000...           46\n",
       "1  0401000501070039605200080000000000170009068008...           47\n",
       "2  6001203840084590720000060050002640300700800069...           47\n",
       "3  4972000001004000050000160986203000403009000000...           48\n",
       "4  0059103080094030600275001000300002010008200070...           49"
      ]
     },
     "execution_count": 3,
     "metadata": {},
     "output_type": "execute_result"
    }
   ],
   "source": [
    "# Empty blocks represented by '0'\n",
    "\n",
    "y = lambda x: x.count('0')\n",
    "dset['no_of_zeros'] = dset['quizzes'].str.count('0')\n",
    "\n",
    "# First 5 rorws will be Displayed\n",
    "\n",
    "dset[['quizzes','no_of_zeros']].head()"
   ]
  },
  {
   "cell_type": "code",
   "execution_count": 4,
   "metadata": {},
   "outputs": [
    {
     "name": "stdout",
     "output_type": "stream",
     "text": [
      "Minimum Zeros : 44\n",
      "Maximum Zeros : 52\n"
     ]
    }
   ],
   "source": [
    "# Total no of zeros ie. empty blocks\n",
    "minZeros = min(list(dset['no_of_zeros']))\n",
    "maxZeros = max(list(dset['no_of_zeros']))\n",
    "\n",
    "print(\"Minimum Zeros : \"+ str(minZeros)+ \"\\nMaximum Zeros : \"+ str(maxZeros))"
   ]
  },
  {
   "cell_type": "code",
   "execution_count": null,
   "metadata": {},
   "outputs": [
    {
     "name": "stdout",
     "output_type": "stream",
     "text": [
      "Total rows : 1000000\n"
     ]
    }
   ],
   "source": [
    "# Total rows\n",
    "print(\"Total rows :\",len(list(dset['quizzes'])))"
   ]
  },
  {
   "cell_type": "code",
   "execution_count": null,
   "metadata": {},
   "outputs": [
    {
     "data": {
      "text/html": [
       "<div>\n",
       "<style scoped>\n",
       "    .dataframe tbody tr th:only-of-type {\n",
       "        vertical-align: middle;\n",
       "    }\n",
       "\n",
       "    .dataframe tbody tr th {\n",
       "        vertical-align: top;\n",
       "    }\n",
       "\n",
       "    .dataframe thead th {\n",
       "        text-align: right;\n",
       "    }\n",
       "</style>\n",
       "<table border=\"1\" class=\"dataframe\">\n",
       "  <thead>\n",
       "    <tr style=\"text-align: right;\">\n",
       "      <th></th>\n",
       "      <th>quizzes</th>\n",
       "      <th>solutions</th>\n",
       "      <th>no_of_zeros</th>\n",
       "    </tr>\n",
       "  </thead>\n",
       "  <tbody>\n",
       "    <tr>\n",
       "      <th>0</th>\n",
       "      <td>0043002090050090010700600430060020871900074000...</td>\n",
       "      <td>8643712593258497619712658434361925871986574322...</td>\n",
       "      <td>46</td>\n",
       "    </tr>\n",
       "    <tr>\n",
       "      <th>1</th>\n",
       "      <td>0401000501070039605200080000000000170009068008...</td>\n",
       "      <td>3461792581875239645296483719658324174729168358...</td>\n",
       "      <td>47</td>\n",
       "    </tr>\n",
       "    <tr>\n",
       "      <th>2</th>\n",
       "      <td>6001203840084590720000060050002640300700800069...</td>\n",
       "      <td>6951273841384596727248369158512647392739815469...</td>\n",
       "      <td>47</td>\n",
       "    </tr>\n",
       "    <tr>\n",
       "      <th>3</th>\n",
       "      <td>4972000001004000050000160986203000403009000000...</td>\n",
       "      <td>4972583161864397252537164986293815473759641828...</td>\n",
       "      <td>48</td>\n",
       "    </tr>\n",
       "    <tr>\n",
       "      <th>4</th>\n",
       "      <td>0059103080094030600275001000300002010008200070...</td>\n",
       "      <td>4659123781894735623275681497386452919548216372...</td>\n",
       "      <td>49</td>\n",
       "    </tr>\n",
       "  </tbody>\n",
       "</table>\n",
       "</div>"
      ],
      "text/plain": [
       "                                             quizzes  \\\n",
       "0  0043002090050090010700600430060020871900074000...   \n",
       "1  0401000501070039605200080000000000170009068008...   \n",
       "2  6001203840084590720000060050002640300700800069...   \n",
       "3  4972000001004000050000160986203000403009000000...   \n",
       "4  0059103080094030600275001000300002010008200070...   \n",
       "\n",
       "                                           solutions  no_of_zeros  \n",
       "0  8643712593258497619712658434361925871986574322...           46  \n",
       "1  3461792581875239645296483719658324174729168358...           47  \n",
       "2  6951273841384596727248369158512647392739815469...           47  \n",
       "3  4972583161864397252537164986293815473759641828...           48  \n",
       "4  4659123781894735623275681497386452919548216372...           49  "
      ]
     },
     "execution_count": 6,
     "metadata": {},
     "output_type": "execute_result"
    }
   ],
   "source": [
    "dset.head()"
   ]
  },
  {
   "cell_type": "code",
   "execution_count": null,
   "metadata": {},
   "outputs": [
    {
     "data": {
      "text/html": [
       "<div>\n",
       "<style scoped>\n",
       "    .dataframe tbody tr th:only-of-type {\n",
       "        vertical-align: middle;\n",
       "    }\n",
       "\n",
       "    .dataframe tbody tr th {\n",
       "        vertical-align: top;\n",
       "    }\n",
       "\n",
       "    .dataframe thead th {\n",
       "        text-align: right;\n",
       "    }\n",
       "</style>\n",
       "<table border=\"1\" class=\"dataframe\">\n",
       "  <thead>\n",
       "    <tr style=\"text-align: right;\">\n",
       "      <th></th>\n",
       "      <th>quizzes</th>\n",
       "      <th>solutions</th>\n",
       "      <th>no_of_zeros</th>\n",
       "    </tr>\n",
       "  </thead>\n",
       "  <tbody>\n",
       "    <tr>\n",
       "      <th>999995</th>\n",
       "      <td>3000280000290000300054001077402030980086070031...</td>\n",
       "      <td>3175289464291768356854391277462135989586472131...</td>\n",
       "      <td>47</td>\n",
       "    </tr>\n",
       "    <tr>\n",
       "      <th>999996</th>\n",
       "      <td>0030006000040860057000009409350407208067200502...</td>\n",
       "      <td>5234976811942863757685139429356417288167294532...</td>\n",
       "      <td>47</td>\n",
       "    </tr>\n",
       "    <tr>\n",
       "      <th>999997</th>\n",
       "      <td>0003508200618040300500090000700600029030070100...</td>\n",
       "      <td>7493568212618745393582197468749613529235876146...</td>\n",
       "      <td>49</td>\n",
       "    </tr>\n",
       "    <tr>\n",
       "      <th>999998</th>\n",
       "      <td>0702006900030400010000650205600300000947005800...</td>\n",
       "      <td>4752816936239478511893657245628341793947165828...</td>\n",
       "      <td>48</td>\n",
       "    </tr>\n",
       "    <tr>\n",
       "      <th>999999</th>\n",
       "      <td>3004016201000804000050208300578000000007005030...</td>\n",
       "      <td>3984716251263854797456298316578139429147625838...</td>\n",
       "      <td>48</td>\n",
       "    </tr>\n",
       "  </tbody>\n",
       "</table>\n",
       "</div>"
      ],
      "text/plain": [
       "                                                  quizzes  \\\n",
       "999995  3000280000290000300054001077402030980086070031...   \n",
       "999996  0030006000040860057000009409350407208067200502...   \n",
       "999997  0003508200618040300500090000700600029030070100...   \n",
       "999998  0702006900030400010000650205600300000947005800...   \n",
       "999999  3004016201000804000050208300578000000007005030...   \n",
       "\n",
       "                                                solutions  no_of_zeros  \n",
       "999995  3175289464291768356854391277462135989586472131...           47  \n",
       "999996  5234976811942863757685139429356417288167294532...           47  \n",
       "999997  7493568212618745393582197468749613529235876146...           49  \n",
       "999998  4752816936239478511893657245628341793947165828...           48  \n",
       "999999  3984716251263854797456298316578139429147625838...           48  "
      ]
     },
     "execution_count": 7,
     "metadata": {},
     "output_type": "execute_result"
    }
   ],
   "source": [
    "dset.tail()"
   ]
  },
  {
   "cell_type": "code",
   "execution_count": null,
   "metadata": {},
   "outputs": [],
   "source": [
    "# Display in Grid Format\n",
    "\n",
    "def grid(string):\n",
    "    \n",
    "    ''' Displaying String Format into grid format (9x9) '''\n",
    "    \n",
    "    nine_x_three = []\n",
    "    count = 0\n",
    "    \n",
    "    nine_x_one = [string[:9]] + [(string[9:18])] + [(string[18:27])] \\\n",
    "                + [(string[27:36])] + [(string[36:45])] + [(string[45:54])] \\\n",
    "                + [(string[54:63])] + [(string[63:72])] + [(string[72:81])]\n",
    "    \n",
    "    for row in nine_x_one:\n",
    "            nine_x_three.append(row[:3] + \"  \" + row[3:6] + \"  \" + row[6:9])\n",
    "    \n",
    "    return nine_x_three"
   ]
  },
  {
   "cell_type": "code",
   "execution_count": null,
   "metadata": {},
   "outputs": [
    {
     "name": "stdout",
     "output_type": "stream",
     "text": [
      "004300209005009001070060043006002087190007400050083000600000105003508690042910300\n"
     ]
    }
   ],
   "source": [
    "# Sample data\n",
    "a = list(dset['quizzes'])[0]\n",
    "print(a)"
   ]
  },
  {
   "cell_type": "code",
   "execution_count": null,
   "metadata": {},
   "outputs": [],
   "source": [
    "def display(string):\n",
    "    ''' Display Grid View '''\n",
    "    \n",
    "    count = 0\n",
    "    \n",
    "    for row in string:\n",
    "        print(row)\n",
    "        count += 1\n",
    "        if count%3==0 and count!=9:\n",
    "            print()\n",
    "         \n",
    "        "
   ]
  },
  {
   "cell_type": "code",
   "execution_count": null,
   "metadata": {},
   "outputs": [
    {
     "name": "stdout",
     "output_type": "stream",
     "text": [
      "_________________________________________________________________________________________\n",
      "\n"
     ]
    }
   ],
   "source": [
    "print(\"_________________________________________________________________________________________\\n\")\n",
    "\n",
    "string = input(\"Enter Here....\\n\")\n",
    "print(\"_________________________________________________________________________________________\")\n",
    "\n",
    "\n",
    "print(\"\\nUNSOLVED SUDOKU\")\n",
    "grid_9x9 = grid(string)\n",
    "\n",
    "display(grid_9x9)"
   ]
  },
  {
   "cell_type": "code",
   "execution_count": null,
   "metadata": {},
   "outputs": [],
   "source": [
    "# Solving for Given Suduko \n",
    "\n",
    "solve = list(dset['quizzes']).index(string)\n",
    "solution = grid(list(dset['solutions'])[solve])\n",
    "\n",
    "print(\"SOLVED SUDUKO\")\n",
    "display(solution)\n",
    "\n"
   ]
  },
  {
   "cell_type": "code",
   "execution_count": null,
   "metadata": {},
   "outputs": [],
   "source": []
  },
  {
   "cell_type": "code",
   "execution_count": null,
   "metadata": {},
   "outputs": [],
   "source": []
  },
  {
   "cell_type": "code",
   "execution_count": null,
   "metadata": {},
   "outputs": [],
   "source": []
  }
 ],
 "metadata": {
  "kernelspec": {
   "display_name": "Python 3",
   "language": "python",
   "name": "python3"
  },
  "language_info": {
   "codemirror_mode": {
    "name": "ipython",
    "version": 3
   },
   "file_extension": ".py",
   "mimetype": "text/x-python",
   "name": "python",
   "nbconvert_exporter": "python",
   "pygments_lexer": "ipython3",
   "version": "3.7.1"
  }
 },
 "nbformat": 4,
 "nbformat_minor": 2
}
